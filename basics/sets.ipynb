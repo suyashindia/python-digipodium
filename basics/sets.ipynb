{
 "cells": [
  {
   "cell_type": "code",
   "execution_count": null,
   "metadata": {},
   "outputs": [],
   "source": [
    "#x.items()\n",
    "#x.get()\n",
    "#x.keys()\n",
    "#x.values()\n",
    "#list(x.values())\n",
    "#dictionaries"
   ]
  },
  {
   "cell_type": "code",
   "execution_count": null,
   "metadata": {},
   "outputs": [],
   "source": [
    "#from keys\n",
    "#.fromkeys(e,1000)\n",
    "#emp_data.setdefault()\n",
    "\n"
   ]
  }
 ],
 "metadata": {
  "language_info": {
   "name": "python"
  },
  "orig_nbformat": 4
 },
 "nbformat": 4,
 "nbformat_minor": 2
}
