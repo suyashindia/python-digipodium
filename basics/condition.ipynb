{
 "cells": [
  {
   "cell_type": "code",
   "execution_count": 1,
   "metadata": {},
   "outputs": [],
   "source": [
    "a=10\n",
    "b=15"
   ]
  },
  {
   "cell_type": "code",
   "execution_count": null,
   "metadata": {},
   "outputs": [],
   "source": [
    "dict{}=["
   ]
  },
  {
   "cell_type": "code",
   "execution_count": 16,
   "metadata": {},
   "outputs": [
    {
     "name": "stdout",
     "output_type": "stream",
     "text": [
      "this is leap year\n"
     ]
    }
   ],
   "source": [
    "year=int(input(\"enter the year\"))\n",
    "if year%100==0 and year%400==0:\n",
    "    pass\n",
    "if year%4==0:\n",
    "    print(\"this is leap year\")\n",
    "else:\n",
    "    print(\"this is non leap year\")\n",
    "\n",
    "\n",
    "\n"
   ]
  },
  {
   "cell_type": "code",
   "execution_count": 29,
   "metadata": {},
   "outputs": [
    {
     "name": "stdout",
     "output_type": "stream",
     "text": [
      "thursday\n"
     ]
    }
   ],
   "source": [
    "num=int(input(\"enter a number\"))\n",
    "if num==1:\n",
    "    print(\"sunday\")\n",
    "elif num==2:\n",
    "    print(\"monday\")\n",
    "elif num==3:\n",
    "    print(\"tuesday\")\n",
    "elif num==4:\n",
    "    print(\"wednesday\")\n",
    "elif num==5:\n",
    "    print(\"thursday\")\n",
    "elif num>5:\n",
    "    print(\"day doesnot exist\")"
   ]
  },
  {
   "cell_type": "code",
   "execution_count": 32,
   "metadata": {},
   "outputs": [
    {
     "ename": "NameError",
     "evalue": "name 'price' is not defined",
     "output_type": "error",
     "traceback": [
      "\u001b[1;31m---------------------------------------------------------------------------\u001b[0m",
      "\u001b[1;31mNameError\u001b[0m                                 Traceback (most recent call last)",
      "\u001b[1;32m~\\AppData\\Local\\Temp/ipykernel_11868/688855647.py\u001b[0m in \u001b[0;36m<module>\u001b[1;34m\u001b[0m\n\u001b[0;32m      1\u001b[0m \u001b[0mcost\u001b[0m\u001b[1;33m=\u001b[0m\u001b[0mint\u001b[0m\u001b[1;33m(\u001b[0m\u001b[0minput\u001b[0m\u001b[1;33m(\u001b[0m\u001b[1;34m\"enter cost price of bike\"\u001b[0m\u001b[1;33m)\u001b[0m\u001b[1;33m)\u001b[0m\u001b[1;33m\u001b[0m\u001b[1;33m\u001b[0m\u001b[0m\n\u001b[1;32m----> 2\u001b[1;33m \u001b[1;32mif\u001b[0m \u001b[0mprice\u001b[0m\u001b[1;33m>\u001b[0m\u001b[1;36m100000\u001b[0m\u001b[1;33m:\u001b[0m\u001b[1;33m\u001b[0m\u001b[1;33m\u001b[0m\u001b[0m\n\u001b[0m\u001b[0;32m      3\u001b[0m     \u001b[0mtax\u001b[0m\u001b[1;33m=\u001b[0m\u001b[1;36m15\u001b[0m\u001b[1;33m/\u001b[0m\u001b[1;36m100\u001b[0m\u001b[1;33m*\u001b[0m\u001b[0mprice\u001b[0m\u001b[1;33m\u001b[0m\u001b[1;33m\u001b[0m\u001b[0m\n\u001b[0;32m      4\u001b[0m \u001b[1;32mif\u001b[0m \u001b[0mprice\u001b[0m\u001b[1;33m>\u001b[0m\u001b[1;36m50000\u001b[0m \u001b[1;32mand\u001b[0m \u001b[0mprice\u001b[0m\u001b[1;33m<=\u001b[0m\u001b[1;36m100000\u001b[0m\u001b[1;33m:\u001b[0m\u001b[1;33m\u001b[0m\u001b[1;33m\u001b[0m\u001b[0m\n\u001b[0;32m      5\u001b[0m     \u001b[0mtax\u001b[0m\u001b[1;33m=\u001b[0m\u001b[1;36m10\u001b[0m\u001b[1;33m/\u001b[0m\u001b[1;36m100\u001b[0m\u001b[1;33m*\u001b[0m\u001b[0mprice\u001b[0m\u001b[1;33m\u001b[0m\u001b[1;33m\u001b[0m\u001b[0m\n",
      "\u001b[1;31mNameError\u001b[0m: name 'price' is not defined"
     ]
    }
   ],
   "source": [
    "cost=int(input(\"enter cost price of bike\"))\n",
    "if price>100000:\n",
    "    tax=15/100*price\n",
    "if price>50000 and price<=100000:\n",
    "    tax=10/100*price\n",
    "if price<=50000:\n",
    "    tax=5/100*price"
   ]
  },
  {
   "cell_type": "code",
   "execution_count": 42,
   "metadata": {},
   "outputs": [
    {
     "name": "stdout",
     "output_type": "stream",
     "text": [
      "the charge to be paid is 40\n"
     ]
    }
   ],
   "source": [
    "days=int(input(\"enter number of days\"))\n",
    "if days<=5:\n",
    "    charge=days*2\n",
    "if days>5 or days<=10:\n",
    "    charge=days*3\n",
    "if days>10 or days<=15:\n",
    "    charge=days*4\n",
    "if days>15:\n",
    "    charge=days*10\n",
    "print(\"the charge to be paid is\",charge)\n"
   ]
  },
  {
   "cell_type": "code",
   "execution_count": 3,
   "metadata": {},
   "outputs": [
    {
     "name": "stdout",
     "output_type": "stream",
     "text": [
      "the bill is 780\n"
     ]
    }
   ],
   "source": [
    "kmc=int(input(\"enter the kmc\"))\n",
    "if kmc<=10:\n",
    "    bill=kmc*11\n",
    "if kmc>10 and kmc<=100:\n",
    "    bill=110+(kmc)*10\n",
    "if kmc>100:\n",
    "    bill=1010+(kmc)*9\n",
    "print(\"the bill is\",bill)\n"
   ]
  },
  {
   "cell_type": "code",
   "execution_count": 7,
   "metadata": {},
   "outputs": [
    {
     "name": "stdout",
     "output_type": "stream",
     "text": [
      "your bill is 0\n"
     ]
    }
   ],
   "source": [
    "unit=int(input(\"enter electirc unit\"))\n",
    "if unit<=100:\n",
    "    bill=0\n",
    "if unit>100 and unit<=300:\n",
    "    bill=unit*2\n",
    "if unit>300:\n",
    "    bill=400+(bill)*5\n",
    "print(\"your bill is\",bill)"
   ]
  },
  {
   "cell_type": "code",
   "execution_count": 19,
   "metadata": {},
   "outputs": [],
   "source": [
    "num1=int(input(\"enter first number\"))\n",
    "num2=int(input(\"enter second number\"))\n",
    "num3=int(input(\"enter third number\"))\n",
    "if num1>num2>num3:\n",
    "    print(\"num2 is second greatest\")\n",
    "elif num2>num3>num1:\n",
    "    print(\"num3 is second greatest\")\n",
    "elif num3>num1>num2:\n",
    "    print(\"num1 is second greatest\")"
   ]
  },
  {
   "cell_type": "code",
   "execution_count": null,
   "metadata": {},
   "outputs": [],
   "source": [
    "s1=int(input(\"enter s1\"))\n",
    "s2=int(input(\"enter s2\"))\n",
    "s3=int(input(\"enter s3\"))\n",
    "if s1==s2==s3:\n",
    "    print(\"equitareal triangle\")\n",
    "if "
   ]
  },
  {
   "cell_type": "code",
   "execution_count": 21,
   "metadata": {},
   "outputs": [
    {
     "name": "stdout",
     "output_type": "stream",
     "text": [
      "f2 is greatest\n"
     ]
    }
   ],
   "source": [
    "num1=int(input(\"enter first num\"))\n",
    "num2=int(input(\"enter second num\"))\n",
    "num3=int(input(\"enter third num\"))\n",
    "num4=int(input(\"enter fourth num\"))\n",
    "if num1>num2:\n",
    "    f1=num1\n",
    "else:\n",
    "    f1=num2\n",
    "if num3>num4:\n",
    "    f2=num3\n",
    "else:\n",
    "    f2=num4\n",
    "if f1>f2:\n",
    "    print(\"f1 is greatest\")\n",
    "else:\n",
    "    print(\"f2 is greatest\")\n"
   ]
  },
  {
   "cell_type": "code",
   "execution_count": 28,
   "metadata": {},
   "outputs": [
    {
     "name": "stdout",
     "output_type": "stream",
     "text": [
      "number is three digit\n"
     ]
    }
   ],
   "source": [
    "num=input(\"enter a number\")\n",
    "if int(len(num))==3:\n",
    "    print(\"number is three digit\")\n",
    "else:\n",
    "    print(\"the number is not three digit\")        "
   ]
  },
  {
   "cell_type": "code",
   "execution_count": 1,
   "metadata": {},
   "outputs": [
    {
     "name": "stdout",
     "output_type": "stream",
     "text": [
      "vote\n"
     ]
    }
   ],
   "source": [
    "  age=int(input(\"enter your age\"))\n",
    "  if age>=18:\n",
    "      print(\"vote\")\n",
    "  else:\n",
    "      print(\"no vote  \")"
   ]
  },
  {
   "cell_type": "code",
   "execution_count": 3,
   "metadata": {},
   "outputs": [
    {
     "name": "stdout",
     "output_type": "stream",
     "text": [
      "the last digit of number is 7\n"
     ]
    }
   ],
   "source": [
    "num=int(input(\"enter a number\"))\n",
    "print(\"the last digit of number is\",num%10)"
   ]
  },
  {
   "cell_type": "code",
   "execution_count": 6,
   "metadata": {},
   "outputs": [
    {
     "name": "stdout",
     "output_type": "stream",
     "text": [
      "last digit is not divisible by three\n"
     ]
    }
   ],
   "source": [
    "num=int(input(\"ënter a number\"))\n",
    "x=num%10\n",
    "if x%3==0:\n",
    "    print(\"last digit of number is divisible by three\")\n",
    "else:\n",
    "    print(\"last digit is not divisible by three\")\n"
   ]
  },
  {
   "cell_type": "code",
   "execution_count": 8,
   "metadata": {},
   "outputs": [
    {
     "name": "stdout",
     "output_type": "stream",
     "text": [
      "f2 is youngest\n"
     ]
    }
   ],
   "source": [
    "a1=int(input(\"enter age of person1\"))\n",
    "a2=int(input(\"enter age of person2\"))\n",
    "a3=int(input(\"enter age of person3\"))\n",
    "a4=int(input(\"enter age of person4\"))\n",
    "if a1<a2:\n",
    "    f1=a1\n",
    "else:\n",
    "    f1=a2\n",
    "if a3<a4:\n",
    "    f2=a3\n",
    "else:\n",
    "    f2=a4\n",
    "if f1<f2:\n",
    "    print(\"f1 is yongest\")\n",
    "else:\n",
    "    print(\"f2 is youngest\")"
   ]
  },
  {
   "cell_type": "code",
   "execution_count": 12,
   "metadata": {},
   "outputs": [
    {
     "name": "stdout",
     "output_type": "stream",
     "text": [
      "vowel\n"
     ]
    }
   ],
   "source": [
    "chr=input(\"enter a character\")\n",
    "vowel=\"a,e,i,o,u,A,E,I,O,U  \"\n",
    "if chr in vowel:\n",
    "    print(\"vowel\")\n",
    "else:\n",
    "    print(\"non vowel\")"
   ]
  },
  {
   "cell_type": "code",
   "execution_count": 65,
   "metadata": {},
   "outputs": [
    {
     "name": "stdout",
     "output_type": "stream",
     "text": [
      "this is triangle\n",
      "this is triangle\n"
     ]
    }
   ],
   "source": [
    "side1=int(input(\"enter side1 of triangle\"))\n",
    "side2=int(input(\"enter side2 of triangle\"))\n",
    "side3=int(input(\"enter side3 of triangle\"))\n",
    "if side1+side2>side3:\n",
    "    print(\"this is triangle\")\n",
    "if side2+side3>side1:\n",
    "    print(\"this is triangle\")\n",
    "if side3+side1>side2:\n",
    "    print(\"this is triangle\")\n",
    "else:\n",
    "    print(\"triangle is not possible\")"
   ]
  },
  {
   "cell_type": "code",
   "execution_count": null,
   "metadata": {},
   "outputs": [],
   "source": [
    "num=int(input(\"enter the num\"))"
   ]
  },
  {
   "cell_type": "code",
   "execution_count": 1,
   "metadata": {},
   "outputs": [
    {
     "name": "stdout",
     "output_type": "stream",
     "text": [
      "the value of a is greater than 3\n"
     ]
    }
   ],
   "source": [
    "a=45\n",
    "if(a>3):\n",
    "    print(\"the value of a is greater than 3\")\n",
    "elif(a>7):\n",
    "    print(\"the value of a is greater than 7\")\n",
    "else:\n",
    "    print(\"the value of a is not greater than 3 or 7\")\n"
   ]
  },
  {
   "cell_type": "code",
   "execution_count": 13,
   "metadata": {},
   "outputs": [
    {
     "ename": "IndentationError",
     "evalue": "unexpected indent (Temp/ipykernel_5492/3598368098.py, line 2)",
     "output_type": "error",
     "traceback": [
      "\u001b[1;36m  File \u001b[1;32m\"C:\\Users\\Dell\\AppData\\Local\\Temp/ipykernel_5492/3598368098.py\"\u001b[1;36m, line \u001b[1;32m2\u001b[0m\n\u001b[1;33m    if age>=18:\u001b[0m\n\u001b[1;37m    ^\u001b[0m\n\u001b[1;31mIndentationError\u001b[0m\u001b[1;31m:\u001b[0m unexpected indent\n"
     ]
    }
   ],
   "source": [
    "age = int(input(\"enter your age\"))\n",
    "    if age>=18:\n",
    "    print(\"yes\")\n",
    "    else:\n",
    "    print(\"no\")"
   ]
  },
  {
   "cell_type": "code",
   "execution_count": 15,
   "metadata": {},
   "outputs": [
    {
     "name": "stdout",
     "output_type": "stream",
     "text": [
      "yes\n"
     ]
    }
   ],
   "source": [
    "age=int(input(\"enter the age\")) \n",
    "if age>=18:\n",
    "    print(\"yes\")\n",
    "else:\n",
    "    print(\"no\")"
   ]
  },
  {
   "cell_type": "code",
   "execution_count": null,
   "metadata": {},
   "outputs": [],
   "source": [
    "age=45\n",
    "if age>"
   ]
  },
  {
   "cell_type": "code",
   "execution_count": null,
   "metadata": {},
   "outputs": [],
   "source": [
    " a1=int(input(enter number a1 ))"
   ]
  },
  {
   "cell_type": "code",
   "execution_count": 16,
   "metadata": {},
   "outputs": [
    {
     "name": "stdout",
     "output_type": "stream",
     "text": [
      "pass\n"
     ]
    }
   ],
   "source": [
    "s1=int(input(\"enter the marks of s1\"))\n",
    "s2=int(input(\"enter the marks of s2\"))\n",
    "s3=int(input(\"enter the marks of s3\"))\n",
    "if s1+s2+s3>=33:\n",
    "    print(\"pass\")\n",
    "else:\n",
    "    print(\"fail \")"
   ]
  },
  {
   "cell_type": "code",
   "execution_count": 1,
   "metadata": {},
   "outputs": [
    {
     "name": "stdout",
     "output_type": "stream",
     "text": [
      "i am a programmar\n"
     ]
    }
   ],
   "source": [
    "string=\"i am a programmar\"\n",
    "print(string)"
   ]
  },
  {
   "cell_type": "code",
   "execution_count": 2,
   "metadata": {},
   "outputs": [
    {
     "name": "stdout",
     "output_type": "stream",
     "text": [
      "13\n"
     ]
    }
   ],
   "source": [
    "string=\"myself suyash\"\n",
    "print(len(string))"
   ]
  },
  {
   "cell_type": "code",
   "execution_count": 4,
   "metadata": {},
   "outputs": [
    {
     "name": "stdout",
     "output_type": "stream",
     "text": [
      " great\n"
     ]
    }
   ],
   "source": [
    "string=\"python is great\"\n",
    "print(string[-6:])"
   ]
  },
  {
   "cell_type": "code",
   "execution_count": 5,
   "metadata": {},
   "outputs": [
    {
     "name": "stdout",
     "output_type": "stream",
     "text": [
      "python\n",
      "is\n",
      "everywhere\n"
     ]
    }
   ],
   "source": [
    "string=\"python is everywhere\"\n",
    "for word in string.split():\n",
    "    print(word)"
   ]
  },
  {
   "cell_type": "code",
   "execution_count": 6,
   "metadata": {},
   "outputs": [
    {
     "name": "stdout",
     "output_type": "stream",
     "text": [
      "dlrow olleh\n"
     ]
    }
   ],
   "source": [
    "string=\"hello world\"\n",
    "print(string[::-1])"
   ]
  },
  {
   "cell_type": "code",
   "execution_count": 7,
   "metadata": {},
   "outputs": [
    {
     "name": "stdout",
     "output_type": "stream",
     "text": [
      "HOW ARE YOU?\n"
     ]
    }
   ],
   "source": [
    "string=\"how are you?\"\n",
    "print(string.upper())"
   ]
  },
  {
   "cell_type": "code",
   "execution_count": 8,
   "metadata": {},
   "outputs": [
    {
     "name": "stdout",
     "output_type": "stream",
     "text": [
      "how is it going\n"
     ]
    }
   ],
   "source": [
    "string=\"how is it going\"\n",
    "print(string.lower())"
   ]
  },
  {
   "cell_type": "code",
   "execution_count": 9,
   "metadata": {},
   "outputs": [
    {
     "name": "stdout",
     "output_type": "stream",
     "text": [
      "Twinkle, twinkle, little star, \n",
      "How I wonder what you are! \n",
      "Up above the world so high, \n",
      "Like a diamond in the sky.\n"
     ]
    }
   ],
   "source": [
    "print('''Twinkle, twinkle, little star, \n",
    "How I wonder what you are! \n",
    "Up above the world so high, \n",
    "Like a diamond in the sky.''' \n",
    ")"
   ]
  },
  {
   "cell_type": "code",
   "execution_count": 10,
   "metadata": {},
   "outputs": [
    {
     "name": "stdout",
     "output_type": "stream",
     "text": [
      "the variable is 15\n"
     ]
    }
   ],
   "source": [
    "variable=15\n",
    "print(\"the variable is\",variable)"
   ]
  },
  {
   "cell_type": "code",
   "execution_count": 11,
   "metadata": {},
   "outputs": [
    {
     "name": "stdout",
     "output_type": "stream",
     "text": [
      "pythonisgreat\n"
     ]
    }
   ],
   "source": [
    "s1=\"python\"\n",
    "s2=\"is\"\n",
    "s3=\"great\"\n",
    "print(str(s1)+str(s2)+str(s3))"
   ]
  },
  {
   "cell_type": "code",
   "execution_count": 15,
   "metadata": {},
   "outputs": [
    {
     "name": "stdout",
     "output_type": "stream",
     "text": [
      "####################\n"
     ]
    }
   ],
   "source": [
    "print(\"#\" * 20)"
   ]
  },
  {
   "cell_type": "code",
   "execution_count": 19,
   "metadata": {},
   "outputs": [
    {
     "name": "stdout",
     "output_type": "stream",
     "text": [
      "1.\n",
      "2.\n",
      "3.\n",
      "4.\n",
      "5.\n",
      "6.\n",
      "7.\n",
      "8.\n",
      "9.\n"
     ]
    }
   ],
   "source": [
    "for i in range(1,10):\n",
    "    print(str(i)+\".\")"
   ]
  },
  {
   "cell_type": "code",
   "execution_count": 21,
   "metadata": {},
   "outputs": [
    {
     "name": "stdout",
     "output_type": "stream",
     "text": [
      "2\n"
     ]
    }
   ],
   "source": [
    "string=input(\"enter any string\")\n",
    "print(string.count(\"e\"))"
   ]
  },
  {
   "cell_type": "code",
   "execution_count": 17,
   "metadata": {},
   "outputs": [
    {
     "ename": "IndentationError",
     "evalue": "unexpected indent (Temp/ipykernel_4768/1275406413.py, line 5)",
     "output_type": "error",
     "traceback": [
      "\u001b[1;36m  File \u001b[1;32m\"C:\\Users\\Dell\\AppData\\Local\\Temp/ipykernel_4768/1275406413.py\"\u001b[1;36m, line \u001b[1;32m5\u001b[0m\n\u001b[1;33m    if(avg>=40):\u001b[0m\n\u001b[1;37m    ^\u001b[0m\n\u001b[1;31mIndentationError\u001b[0m\u001b[1;31m:\u001b[0m unexpected indent\n"
     ]
    }
   ],
   "source": [
    "   maths=int(input(\"enter marks of maths\"))\n",
    "   science=int(input(\"enter marks of science\"))\n",
    "   english=int(input(\"enter marks of english\"))\n",
    "   avg=maths+science+english/3*100\n",
    "        if(avg>=40):\n",
    "\n",
    "        if (maths=>33):\n",
    "        if (science=>33):\n",
    "        if (english=>33):\n",
    "             print(\"congratulatins you are pass\")\n",
    "        else:\n",
    "    \n",
    "           print(\"sorry you are fail\")\n",
    "    \n",
    "\n",
    "\n"
   ]
  },
  {
   "cell_type": "code",
   "execution_count": 18,
   "metadata": {},
   "outputs": [
    {
     "name": "stdout",
     "output_type": "stream",
     "text": [
      "f1 is greatest\n"
     ]
    }
   ],
   "source": [
    "a=int(input(\"enter value of a\"))\n",
    "b=int(input(\"enter value of b\"))\n",
    "c=int(input(\"enter value of c\"))\n",
    "d=int(input(\"enter value of d\"))\n",
    "if (a>b):\n",
    "    f1=a\n",
    "if (b>a):\n",
    "    f1=b\n",
    "if (c>d):\n",
    "    f2=c\n",
    "if (d>c):\n",
    "    f2=d\n",
    "if (f1>f2):\n",
    "    print(\"f1 is greatest\")\n",
    "else:\n",
    "    print(\"f2 is greatest\")"
   ]
  },
  {
   "cell_type": "code",
   "execution_count": 28,
   "metadata": {},
   "outputs": [
    {
     "name": "stdout",
     "output_type": "stream",
     "text": [
      "congratulations you are pass\n"
     ]
    }
   ],
   "source": [
    "a=int(input(\"enter the marks of a\"))\n",
    "b=int(input(\"enter the marks of b\"))\n",
    "c=int(input(\"enter the marks of c\"))\n",
    "avg=(a+b+c)/3*100\n",
    "if (avg>=40):\n",
    "    pass\n",
    "if (a>=33):\n",
    "    pass\n",
    "if (b>=33):\n",
    "    pass\n",
    "if (c>=33):\n",
    "    print(\"congratulations you are pass\")\n",
    "else:\n",
    "    print(\"sorry you are fail\")"
   ]
  },
  {
   "cell_type": "code",
   "execution_count": 37,
   "metadata": {},
   "outputs": [
    {
     "ename": "TypeError",
     "evalue": "'<' not supported between instances of 'int' and 'str'",
     "output_type": "error",
     "traceback": [
      "\u001b[1;31m---------------------------------------------------------------------------\u001b[0m",
      "\u001b[1;31mTypeError\u001b[0m                                 Traceback (most recent call last)",
      "\u001b[1;32m~\\AppData\\Local\\Temp/ipykernel_4768/103749804.py\u001b[0m in \u001b[0;36m<module>\u001b[1;34m\u001b[0m\n\u001b[0;32m      1\u001b[0m \u001b[0mname\u001b[0m\u001b[1;33m=\u001b[0m\u001b[0minput\u001b[0m\u001b[1;33m(\u001b[0m\u001b[1;34m\"enter name\"\u001b[0m\u001b[1;33m)\u001b[0m\u001b[1;33m\u001b[0m\u001b[1;33m\u001b[0m\u001b[0m\n\u001b[0;32m      2\u001b[0m \u001b[0mlen\u001b[0m\u001b[1;33m(\u001b[0m\u001b[0mname\u001b[0m\u001b[1;33m)\u001b[0m\u001b[1;33m\u001b[0m\u001b[1;33m\u001b[0m\u001b[0m\n\u001b[1;32m----> 3\u001b[1;33m \u001b[1;32mif\u001b[0m \u001b[1;33m(\u001b[0m\u001b[0mlen\u001b[0m\u001b[1;33m(\u001b[0m\u001b[0mname\u001b[0m\u001b[1;33m)\u001b[0m\u001b[1;33m<\u001b[0m\u001b[1;34m\"10\"\u001b[0m\u001b[1;33m)\u001b[0m\u001b[1;33m:\u001b[0m\u001b[1;33m\u001b[0m\u001b[1;33m\u001b[0m\u001b[0m\n\u001b[0m\u001b[0;32m      4\u001b[0m     \u001b[0mprint\u001b[0m\u001b[1;33m(\u001b[0m\u001b[1;34m\"small\"\u001b[0m\u001b[1;33m)\u001b[0m\u001b[1;33m\u001b[0m\u001b[1;33m\u001b[0m\u001b[0m\n\u001b[0;32m      5\u001b[0m \u001b[1;32melse\u001b[0m\u001b[1;33m:\u001b[0m\u001b[1;33m\u001b[0m\u001b[1;33m\u001b[0m\u001b[0m\n",
      "\u001b[1;31mTypeError\u001b[0m: '<' not supported between instances of 'int' and 'str'"
     ]
    }
   ],
   "source": [
    "name=input(\"enter name\")\n",
    "len(name)\n",
    "if (len(name)<\"10\"):\n",
    "    print(\"small\")\n",
    "else:\n",
    "    print(\"large\")"
   ]
  },
  {
   "cell_type": "code",
   "execution_count": 55,
   "metadata": {},
   "outputs": [
    {
     "name": "stdout",
     "output_type": "stream",
     "text": [
      "this is spam\n"
     ]
    }
   ],
   "source": [
    "text=input(\"enter the text\")\n",
    "s1=\"make lot of money\"\n",
    "s2=\"subscribe this\"\n",
    "s3=\"buy now\"\n",
    "s4=\"check this\"\n",
    "if (s1,s2,s3,s4 in text):\n",
    "    print(\"this is spam\")\n",
    "else:\n",
    "    print(\"this is spam free\")"
   ]
  },
  {
   "cell_type": "code",
   "execution_count": 64,
   "metadata": {},
   "outputs": [
    {
     "name": "stdout",
     "output_type": "stream",
     "text": [
      "your name is present in list\n"
     ]
    }
   ],
   "source": [
    "names= [\"suyash\",\"akhtar\",\"george\",\"samrat\",\"binod\"]\n",
    "name=input(\"enter the name\")\n",
    "if name in names:\n",
    "    print(\"your name is present in list\")\n",
    "else:\n",
    "    print(\"your name is absent\")"
   ]
  },
  {
   "cell_type": "code",
   "execution_count": 68,
   "metadata": {},
   "outputs": [
    {
     "name": "stdout",
     "output_type": "stream",
     "text": [
      "A\n"
     ]
    }
   ],
   "source": [
    "marks=int(input(\"enter the marks\"))\n",
    "if (marks>90):\n",
    "    print(\"ex\")\n",
    "if (marks>80 or marks==90):\n",
    "    print(\"A\")\n",
    "if (marks>=70 and marks==80 ):\n",
    "    print(\"B\")"
   ]
  },
  {
   "cell_type": "code",
   "execution_count": 22,
   "metadata": {},
   "outputs": [
    {
     "name": "stdout",
     "output_type": "stream",
     "text": [
      "this is not a good string\n"
     ]
    }
   ],
   "source": [
    "text=\"   this is not a good string\" \n",
    "print(text.strip())"
   ]
  },
  {
   "cell_type": "code",
   "execution_count": 24,
   "metadata": {},
   "outputs": [
    {
     "name": "stdout",
     "output_type": "stream",
     "text": [
      "['joe', 'david', 'mark', 'tom', 'chris', 'robert']\n"
     ]
    }
   ],
   "source": [
    "names=\"joe,david,mark,tom,chris,robert\"\n",
    "list=names.split(',')\n",
    "print(list  )"
   ]
  },
  {
   "cell_type": "code",
   "execution_count": 25,
   "metadata": {},
   "outputs": [
    {
     "name": "stdout",
     "output_type": "stream",
     "text": [
      "thisaye\n",
      "isaye\n",
      "someaye\n",
      "textaye\n"
     ]
    }
   ],
   "source": [
    "text=\"this is some text\"\n",
    "for word in text.split(' '):\n",
    "    word+=\"aye\"\n",
    "    print(word)"
   ]
  },
  {
   "cell_type": "code",
   "execution_count": 28,
   "metadata": {},
   "outputs": [
    {
     "name": "stdout",
     "output_type": "stream",
     "text": [
      "this string contain fyi \n"
     ]
    }
   ],
   "source": [
    "string=input(\"enter string\")\n",
    "if string.count(\"fyi\")>0:\n",
    "    print(\"this string contain fyi \")\n"
   ]
  },
  {
   "cell_type": "code",
   "execution_count": null,
   "metadata": {},
   "outputs": [],
   "source": []
  },
  {
   "cell_type": "code",
   "execution_count": 6,
   "metadata": {},
   "outputs": [
    {
     "name": "stdout",
     "output_type": "stream",
     "text": [
      "amazing logic\n"
     ]
    }
   ],
   "source": [
    "if a < b:\n",
    "    print(\"amazing logic\")"
   ]
  },
  {
   "cell_type": "code",
   "execution_count": 9,
   "metadata": {},
   "outputs": [
    {
     "name": "stdout",
     "output_type": "stream",
     "text": [
      "weather is cold\n"
     ]
    }
   ],
   "source": [
    "temp=float(input(\"enter the temp in C degree\"))\n",
    "if temp<=15:\n",
    "    print(\"weather is cold\")"
   ]
  },
  {
   "cell_type": "code",
   "execution_count": 12,
   "metadata": {},
   "outputs": [
    {
     "name": "stdout",
     "output_type": "stream",
     "text": [
      "not nice at all\n"
     ]
    }
   ],
   "source": [
    "x = 12\n",
    "if x == 13:\n",
    "   print(\"nice\")\n",
    "else:\n",
    "   print('not nice at all')\n"
   ]
  },
  {
   "cell_type": "code",
   "execution_count": 13,
   "metadata": {},
   "outputs": [
    {
     "name": "stdout",
     "output_type": "stream",
     "text": [
      "you are a teenager\n"
     ]
    }
   ],
   "source": [
    "age=int(input('enter your age:'))\n",
    "\n",
    "if age<=10:\n",
    "    print(\"you are a kid\")\n",
    "elif age>= 11 and age <=20:\n",
    "    print (\"you are a teenager\")"
   ]
  },
  {
   "cell_type": "code",
   "execution_count": 18,
   "metadata": {},
   "outputs": [
    {
     "name": "stdout",
     "output_type": "stream",
     "text": [
      "three stars\n"
     ]
    }
   ],
   "source": [
    "score=int(input(\"movie score\"))\n",
    "if(score <=50):\n",
    "    print(\"three stars\")\n",
    "elif(score==50):\n",
    "    print(\"five stars\")\n",
    "else:\n",
    "    print(\"invalid\") "
   ]
  }
 ],
 "metadata": {
  "interpreter": {
   "hash": "d62006d1f3422635846181a997a61e8ec3049f797e5d7dfe0cd1bb84092b7c19"
  },
  "kernelspec": {
   "display_name": "Python 3.9.7 64-bit",
   "language": "python",
   "name": "python3"
  },
  "language_info": {
   "codemirror_mode": {
    "name": "ipython",
    "version": 3
   },
   "file_extension": ".py",
   "mimetype": "text/x-python",
   "name": "python",
   "nbconvert_exporter": "python",
   "pygments_lexer": "ipython3",
   "version": "3.9.7"
  },
  "orig_nbformat": 4
 },
 "nbformat": 4,
 "nbformat_minor": 2
}
