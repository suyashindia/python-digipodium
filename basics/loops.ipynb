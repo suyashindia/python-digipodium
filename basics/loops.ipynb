{
 "cells": [
  {
   "cell_type": "markdown",
   "metadata": {},
   "source": []
  },
  {
   "cell_type": "code",
   "execution_count": 2,
   "metadata": {},
   "outputs": [
    {
     "name": "stdout",
     "output_type": "stream",
     "text": [
      "in loop\n",
      "in loop\n",
      "in loop\n",
      "in loop\n",
      "in loop\n"
     ]
    }
   ],
   "source": [
    "num=int(input('enter a number'))\n",
    "while num>0:\n",
    "    print(\"in loop\")\n",
    "    num -=1"
   ]
  },
  {
   "cell_type": "code",
   "execution_count": 3,
   "metadata": {},
   "outputs": [],
   "source": [
    "i=4\n",
    "whil e i>10:\n",
    "   print(\"yes\") "
   ]
  },
  {
   "cell_type": "code",
   "execution_count": 9,
   "metadata": {},
   "outputs": [
    {
     "name": "stdout",
     "output_type": "stream",
     "text": [
      "2\n",
      "3\n",
      "4\n",
      "5\n",
      "6\n",
      "7\n",
      "8\n",
      "9\n",
      "10\n"
     ]
    }
   ],
   "source": [
    "i=2\n",
    "for i in range(2   ,11):\n",
    "    print(i)\n",
    "i=i*2"
   ]
  },
  {
   "cell_type": "code",
   "execution_count": null,
   "metadata": {},
   "outputs": [],
   "source": []
  },
  {
   "cell_type": "code",
   "execution_count": null,
   "metadata": {},
   "outputs": [],
   "source": []
  },
  {
   "cell_type": "code",
   "execution_count": 2,
   "metadata": {},
   "outputs": [],
   "source": [
    "while input(\"calculate marks\")==\"yes\":\n",
    "    eng=int(input(\"enter english marks\"))\n",
    "    hin=int(input(\"enter hindi marks\"))\n",
    "    maths=int(input(\"enter maths marks\"))\n",
    "    sci=int(input(\"enter science marks\"))\n",
    "    evs=int(input(\"enter evs marks\"))\n",
    "    total=eng+hin+sci+maths+evs\n",
    "    perc=total/5\n",
    "    print=(\"your report\")\n",
    "    print(f\"TOTAL:{total}\")\n",
    "    print(f\"PERCENTAGE:{perc}%\")\n",
    "    if perc>80:\n",
    "        grade=\"A\"\n",
    "    elif perc>60 and perc <=80:\n",
    "        grade=\"B\"\n",
    "    elif perc>40 and perc<=60:\n",
    "        grade=\"C\"\n",
    "    else:\n",
    "        grade=\"F\"\n",
    "    print(f\"GRADE:{grade}\")\n",
    "    print(\"*\" * 10)\n",
    "\n",
    "\n",
    "\n",
    "\n",
    "    "
   ]
  },
  {
   "cell_type": "code",
   "execution_count": null,
   "metadata": {},
   "outputs": [],
   "source": [
    "  "
   ]
  },
  {
   "cell_type": "code",
   "execution_count": 4,
   "metadata": {},
   "outputs": [
    {
     "name": "stdout",
     "output_type": "stream",
     "text": [
      "this is loop\n"
     ]
    }
   ],
   "source": [
    "while input(\">>\")==\"y\":\n",
    "     print(\"this is loop\")"
   ]
  },
  {
   "cell_type": "code",
   "execution_count": 7,
   "metadata": {},
   "outputs": [],
   "source": [
    "#loops\n",
    "\n",
    " #for-number of repetions known\n",
    "     - for temp in Iterable \n",
    "       statement 1\n",
    "       statement 2\n",
    "       ...\n",
    "       statement n\n",
    " #while-number of repetetion base don condition\n",
    "       while expression:\n",
    "            statement 1\n",
    "            statement 2\n",
    "            ...\n",
    "            statement n"
   ]
  },
  {
   "cell_type": "code",
   "execution_count": 10,
   "metadata": {},
   "outputs": [
    {
     "name": "stdout",
     "output_type": "stream",
     "text": [
      "loop code\n",
      "loop code\n",
      "loop code\n",
      "loop code\n",
      "loop code\n"
     ]
    }
   ],
   "source": [
    "for i in range(5):\n",
    "    print(\"loop code\")"
   ]
  },
  {
   "cell_type": "code",
   "execution_count": 11,
   "metadata": {},
   "outputs": [
    {
     "name": "stdout",
     "output_type": "stream",
     "text": [
      "total 67\n",
      "total 88\n",
      "total 131\n",
      "total 67\n",
      "total 154\n"
     ]
    }
   ],
   "source": [
    "for i in range(5):\n",
    "    x= int(input('x:'))\n",
    "    y= int(input(\"y:\"))\n",
    "    s= x+y\n",
    "    print(\"total\", s)"
   ]
  },
  {
   "cell_type": "code",
   "execution_count": 14,
   "metadata": {},
   "outputs": [
    {
     "name": "stdout",
     "output_type": "stream",
     "text": [
      "5 6 7 8 9 10 11 12 13 14 15 16 17 18 19 20 21 22 23 24 "
     ]
    }
   ],
   "source": [
    "for i in range(5,25):\n",
    "    print(i,end =' ')"
   ]
  },
  {
   "cell_type": "code",
   "execution_count": 16,
   "metadata": {},
   "outputs": [
    {
     "name": "stdout",
     "output_type": "stream",
     "text": [
      "5 10 15 20 25 30 35 40 45 50 55 60 65 70 75 80 85 90 95 100 "
     ]
    }
   ],
   "source": [
    "for i in range(5,101,5):\n",
    "    print(i,end=\" \")"
   ]
  },
  {
   "cell_type": "code",
   "execution_count": 15,
   "metadata": {},
   "outputs": [
    {
     "name": "stdout",
     "output_type": "stream",
     "text": [
      "5 7 9 11 13 15 17 19 21 23 "
     ]
    }
   ],
   "source": [
    "for i in range(5,25,2):\n",
    "    print(i,end=' ')"
   ]
  },
  {
   "cell_type": "code",
   "execution_count": 22,
   "metadata": {},
   "outputs": [
    {
     "name": "stdout",
     "output_type": "stream",
     "text": [
      "35 70 105 140 175 210 245 280 315 350 385 420 455 490 525 560 595 630 665 700 735 770 805 840 875 910 945 980 "
     ]
    }
   ],
   "source": [
    "for i in range(1,1000):\n",
    "    if i % 5== 0 and i % 7== 0:\n",
    "        print(i, end=\" \")\n",
    "    "
   ]
  },
  {
   "cell_type": "code",
   "execution_count": 23,
   "metadata": {},
   "outputs": [
    {
     "name": "stdout",
     "output_type": "stream",
     "text": [
      "14210\n"
     ]
    }
   ],
   "source": [
    "total = 0\n",
    "for i in range(1, 1000):\n",
    "    if i%5 == 0 and i%7 == 0:\n",
    "        total+=i\n",
    "print(total)"
   ]
  },
  {
   "cell_type": "code",
   "execution_count": 34,
   "metadata": {},
   "outputs": [
    {
     "name": "stdout",
     "output_type": "stream",
     "text": [
      "56257500\n"
     ]
    }
   ],
   "source": [
    "total=0\n",
    "for i in range(1,15001):\n",
    "    if i%2 == 0:\n",
    "        total+=i\n",
    "print(total)"
   ]
  },
  {
   "cell_type": "code",
   "execution_count": 37,
   "metadata": {},
   "outputs": [
    {
     "ename": "SyntaxError",
     "evalue": "invalid syntax (Temp/ipykernel_5492/2148059105.py, line 2)",
     "output_type": "error",
     "traceback": [
      "\u001b[1;36m  File \u001b[1;32m\"C:\\Users\\Dell\\AppData\\Local\\Temp/ipykernel_5492/2148059105.py\"\u001b[1;36m, line \u001b[1;32m2\u001b[0m\n\u001b[1;33m    ex:string,list,set, etc\u001b[0m\n\u001b[1;37m             ^\u001b[0m\n\u001b[1;31mSyntaxError\u001b[0m\u001b[1;31m:\u001b[0m invalid syntax\n"
     ]
    }
   ],
   "source": [
    "#iterating data structures\n",
    "ex:string,list,set, etc"
   ]
  },
  {
   "cell_type": "code",
   "execution_count": 39,
   "metadata": {},
   "outputs": [
    {
     "name": "stdout",
     "output_type": "stream",
     "text": [
      "A ,l ,e ,x ,a ,n ,d ,e ,r ,  ,M ,a ,x ,i ,m ,u ,s ,"
     ]
    }
   ],
   "source": [
    "name = \"Alexander Maximus\"\n",
    "for i in name:\n",
    "    print(i,end=\" ,\")"
   ]
  },
  {
   "cell_type": "code",
   "execution_count": 45,
   "metadata": {},
   "outputs": [
    {
     "name": "stdout",
     "output_type": "stream",
     "text": [
      "we 2,are 3,going 5,to 2,"
     ]
    }
   ],
   "source": [
    "words =[\"we\",\"are\",\"going\",\"to\"]\n",
    "for i in words:\n",
    "    print(i, len(i), end=\",\")"
   ]
  },
  {
   "cell_type": "code",
   "execution_count": 47,
   "metadata": {},
   "outputs": [
    {
     "name": "stdout",
     "output_type": "stream",
     "text": [
      "[1, 2, 3]\n",
      "[4, 5, 6]\n",
      "[7, 8, 9]\n"
     ]
    }
   ],
   "source": [
    "data =[[1,2,3],[4,5,6],[7,8,9]]\n",
    "for i in data:\n",
    "    print(i)"
   ]
  },
  {
   "cell_type": "code",
   "execution_count": null,
   "metadata": {},
   "outputs": [],
   "source": []
  },
  {
   "cell_type": "code",
   "execution_count": 1,
   "metadata": {},
   "outputs": [
    {
     "ename": "TypeError",
     "evalue": "unsupported operand type(s) for +=: 'int' and 'list'",
     "output_type": "error",
     "traceback": [
      "\u001b[1;31m---------------------------------------------------------------------------\u001b[0m",
      "\u001b[1;31mTypeError\u001b[0m                                 Traceback (most recent call last)",
      "\u001b[1;32m~\\AppData\\Local\\Temp/ipykernel_6480/662755086.py\u001b[0m in \u001b[0;36m<module>\u001b[1;34m\u001b[0m\n\u001b[0;32m      3\u001b[0m \u001b[0mcount\u001b[0m\u001b[1;33m=\u001b[0m\u001b[1;36m0\u001b[0m\u001b[1;33m\u001b[0m\u001b[1;33m\u001b[0m\u001b[0m\n\u001b[0;32m      4\u001b[0m \u001b[1;32mfor\u001b[0m \u001b[0mi\u001b[0m \u001b[1;32min\u001b[0m \u001b[0mn\u001b[0m\u001b[1;33m:\u001b[0m\u001b[1;33m\u001b[0m\u001b[1;33m\u001b[0m\u001b[0m\n\u001b[1;32m----> 5\u001b[1;33m     \u001b[0msum\u001b[0m \u001b[1;33m+=\u001b[0m \u001b[0mn\u001b[0m\u001b[1;33m\u001b[0m\u001b[1;33m\u001b[0m\u001b[0m\n\u001b[0m\u001b[0;32m      6\u001b[0m     \u001b[0mcount\u001b[0m \u001b[1;33m+=\u001b[0m \u001b[1;36m1\u001b[0m\u001b[1;33m\u001b[0m\u001b[1;33m\u001b[0m\u001b[0m\n\u001b[0;32m      7\u001b[0m \u001b[1;33m\u001b[0m\u001b[0m\n",
      "\u001b[1;31mTypeError\u001b[0m: unsupported operand type(s) for +=: 'int' and 'list'"
     ]
    }
   ],
   "source": [
    "n=[12,1,23,34,45,56,23,12]\n",
    "sum=0\n",
    "count=0\n",
    "for i in n:\n",
    "    sum += n\n",
    "    count += 1\n",
    "\n",
    "average = sum/count\n",
    "print(average)"
   ]
  },
  {
   "cell_type": "code",
   "execution_count": 3,
   "metadata": {},
   "outputs": [
    {
     "name": "stdout",
     "output_type": "stream",
     "text": [
      "the avg of a+b+c+d+e+f+g+h/n is 195.5\n"
     ]
    }
   ],
   "source": [
    "a=12\n",
    "b=1\n",
    "c=23\n",
    "d=34\n",
    "e=45\n",
    "f=56\n",
    "g=23\n",
    "h=12\n",
    "n=8\n",
    "avg=(a+b+c+d+e+f+g+h/n)\n",
    "\n",
    "print(\"the avg of a+b+c+d+e+f+g+h/n is\",a+b+c+d+e+f+g+h/n)"
   ]
  },
  {
   "cell_type": "code",
   "execution_count": 5,
   "metadata": {},
   "outputs": [
    {
     "name": "stdout",
     "output_type": "stream",
     "text": [
      "the maximum value is 657\n",
      "the minimum value is 1\n"
     ]
    }
   ],
   "source": [
    "a=2\n",
    "b=3\n",
    "c=1\n",
    "d=23\n",
    "e=5\n",
    "f=45\n",
    "g=657\n",
    "h=23\n",
    "i=23\n",
    "j=12\n",
    "\n",
    "input(\"enter the maximum value\")\n",
    "input(\"enter the minimum value\")\n",
    "print(\"the maximum value is 657\")\n",
    "print(\"the minimum value is 1\")"
   ]
  }
 ],
 "metadata": {
  "interpreter": {
   "hash": "d62006d1f3422635846181a997a61e8ec3049f797e5d7dfe0cd1bb84092b7c19"
  },
  "kernelspec": {
   "display_name": "Python 3.9.7 64-bit",
   "language": "python",
   "name": "python3"
  },
  "language_info": {
   "codemirror_mode": {
    "name": "ipython",
    "version": 3
   },
   "file_extension": ".py",
   "mimetype": "text/x-python",
   "name": "python",
   "nbconvert_exporter": "python",
   "pygments_lexer": "ipython3",
   "version": "3.9.7"
  },
  "orig_nbformat": 4
 },
 "nbformat": 4,
 "nbformat_minor": 2
}
