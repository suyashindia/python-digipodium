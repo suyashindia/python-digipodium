{
 "cells": [
  {
   "cell_type": "code",
   "execution_count": 12,
   "metadata": {},
   "outputs": [
    {
     "name": "stdout",
     "output_type": "stream",
     "text": [
      "None\n"
     ]
    }
   ],
   "source": [
    "import cv2\n",
    "img=cv2.imread(\"file:///C:/Users/Dell/Desktop/nature.webp\", 0)\n",
    "print(img)\n",
    "#cv2.imshow(\"nature\",img)  (shows the image)\n",
    "#cv2.waitKey(0)\n",
    "#cv2.destroyAllWindows()\n",
    "#resized=cv2.resize(img,(650,500)) (resize the image)\n",
    "#divide by 2or 3 to maintain symmetry\n",
    "#cv2.resize(img,(int(img.shape[1]/2),int(img.shape[0]/2 )))\n",
    "\n",
    "\n",
    "#face detection\n",
    "#face_cascade=cv2.CascadeClassifier(\"haarcascade_fr(  ))\n",
    "\n",
    "#capturing vidoes\n",
    "#import cv2,time\n",
    "#video=cv2.VideoCapture(0)\n",
    "#check,frame=video.read()   ------check is a bool data type which returns true if webcam is ble to capture the video\n",
    "#print(check)\n",
    "#print(frame)(\"capturing\",frame)\n",
    "# cv2.waitkey()\n",
    "#cv2.imshow\n",
    "#time.sleep(3)              ------for 3 seconds,the camera will be on\n",
    "#video.release()\n",
    "\n",
    "\n",
    "#how to capture video,instead of first image/frame of video\n",
    "\n",
    "#mport cv2,time\n",
    "#video=cv2.VideoCapture(0)\n",
    "#a=1\n",
    "#while true:\n",
    "   #a=a+1\n",
    "   #check,frame=video.read()\n",
    "   #print (frame)\n",
    "   #grey=cv2.cvtColor(frame,cv2.BGR2GRAY)\n",
    "   #cv2.imshow(\"Capture\",gray)\n",
    "   #key=cv2.waitKey(1)\n",
    "   #if key== ord(\"q\"):\n",
    "   #   break\n",
    "   #print(a)\n",
    "   #video.release()\n",
    "   #cv2.destroyAllwindows()\n",
    "#print (check)\n",
    "\n",
    "\n",
    "\n",
    "#motion detector   \n",
    "\n"
   ]
  },
  {
   "cell_type": "code",
   "execution_count": null,
   "metadata": {},
   "outputs": [],
   "source": []
  }
 ],
 "metadata": {
  "interpreter": {
   "hash": "d62006d1f3422635846181a997a61e8ec3049f797e5d7dfe0cd1bb84092b7c19"
  },
  "kernelspec": {
   "display_name": "Python 3.9.7 64-bit",
   "language": "python",
   "name": "python3"
  },
  "language_info": {
   "codemirror_mode": {
    "name": "ipython",
    "version": 3
   },
   "file_extension": ".py",
   "mimetype": "text/x-python",
   "name": "python",
   "nbconvert_exporter": "python",
   "pygments_lexer": "ipython3",
   "version": "3.9.7"
  },
  "orig_nbformat": 4
 },
 "nbformat": 4,
 "nbformat_minor": 2
}
